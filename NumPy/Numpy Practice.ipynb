{
 "cells": [
  {
   "cell_type": "code",
   "execution_count": 1,
   "id": "7334a896",
   "metadata": {},
   "outputs": [],
   "source": [
    "# NUMPY (Library) - it gives multidimensional array object and various derived object\n",
    "#Faster than list,, less memory use\n",
    "# Uses - mathematical, logical, shape manipulation, sorting, selection, basic linear algebra, basic statistical operations\n",
    "#More numerical operations performed in NUMPY as compare to LIST\n"
   ]
  },
  {
   "cell_type": "code",
   "execution_count": null,
   "id": "f63a3c31",
   "metadata": {},
   "outputs": [],
   "source": []
  },
  {
   "cell_type": "code",
   "execution_count": 2,
   "id": "8edd93fc",
   "metadata": {},
   "outputs": [
    {
     "name": "stdout",
     "output_type": "stream",
     "text": [
      "[1 2 3 4]\n",
      "<class 'numpy.ndarray'>\n"
     ]
    }
   ],
   "source": [
    "import numpy as np\n",
    "x = np.array([1,2,3,4])\n",
    "print(x)\n",
    "print(type(x))"
   ]
  },
  {
   "cell_type": "code",
   "execution_count": 3,
   "id": "9fd7bf0f",
   "metadata": {},
   "outputs": [
    {
     "name": "stdout",
     "output_type": "stream",
     "text": [
      "<class 'list'>\n"
     ]
    }
   ],
   "source": [
    "y_list = [1,2,3,4]\n",
    "print(type(y_list))\n"
   ]
  },
  {
   "cell_type": "markdown",
   "id": "0c473e7a",
   "metadata": {},
   "source": [
    "# Creating NP Array"
   ]
  },
  {
   "cell_type": "code",
   "execution_count": 4,
   "id": "0e56a9d2",
   "metadata": {},
   "outputs": [
    {
     "name": "stdout",
     "output_type": "stream",
     "text": [
      "[1 2 3]\n"
     ]
    }
   ],
   "source": [
    "import numpy as np\n",
    "n = np.array([1,2,3])\n",
    "print(n)"
   ]
  },
  {
   "cell_type": "code",
   "execution_count": 5,
   "id": "1544253c",
   "metadata": {},
   "outputs": [
    {
     "name": "stdout",
     "output_type": "stream",
     "text": [
      "1\n"
     ]
    }
   ],
   "source": [
    "type(n)\n",
    "print(n.ndim)"
   ]
  },
  {
   "cell_type": "markdown",
   "id": "8aadd93e",
   "metadata": {},
   "source": [
    "user input array"
   ]
  },
  {
   "cell_type": "code",
   "execution_count": 6,
   "id": "db994c9f",
   "metadata": {},
   "outputs": [],
   "source": [
    "import numpy as np"
   ]
  },
  {
   "cell_type": "code",
   "execution_count": 7,
   "id": "b0cec3a2",
   "metadata": {},
   "outputs": [
    {
     "name": "stdout",
     "output_type": "stream",
     "text": [
      "Enter array items: 4\n",
      "Enter array items: 6\n",
      "Enter array items: 7\n",
      "Enter array items: 4\n",
      "[4 6 7 4]\n",
      "<class 'list'>\n"
     ]
    }
   ],
   "source": [
    "l = []\n",
    "for i in range(1,5):\n",
    "    a = int(input(\"Enter array items: \"))\n",
    "    l.append(a)\n",
    "    \n",
    "print(np.array(l))\n",
    "print(type(l))\n",
    "\n"
   ]
  },
  {
   "cell_type": "markdown",
   "id": "e7750afc",
   "metadata": {},
   "source": [
    "#### Types of Array\n",
    "\n",
    "1D, 2D, 3D, Higher demensional array"
   ]
  },
  {
   "cell_type": "code",
   "execution_count": 8,
   "id": "8ddf1e3a",
   "metadata": {},
   "outputs": [
    {
     "name": "stdout",
     "output_type": "stream",
     "text": [
      "[[1 2 3 4]\n",
      " [1 2 3 4]]\n",
      "2\n"
     ]
    }
   ],
   "source": [
    "a2 = np.array([[1,2,3,4],[1,2,3,4]])\n",
    "print(a2)\n",
    "print(a2.ndim)"
   ]
  },
  {
   "cell_type": "code",
   "execution_count": 9,
   "id": "76bab42f",
   "metadata": {},
   "outputs": [
    {
     "name": "stdout",
     "output_type": "stream",
     "text": [
      "[[[1 2 3 4]\n",
      "  [1 2 3 4]\n",
      "  [1 2 3 4]]]\n",
      "3\n"
     ]
    }
   ],
   "source": [
    "a3 = np.array([[[1,2,3,4], [1,2,3,4], [1,2,3,4]]])\n",
    "print(a3)\n",
    "print(a3.ndim)"
   ]
  },
  {
   "cell_type": "code",
   "execution_count": 10,
   "id": "c6bbe6a9",
   "metadata": {},
   "outputs": [
    {
     "name": "stdout",
     "output_type": "stream",
     "text": [
      "[[[[[[[[[[1 2 3 4]]]]]]]]]]\n",
      "10\n"
     ]
    }
   ],
   "source": [
    "#n dimensional array\n",
    "\n",
    "a4 = np.array([1,2,3,4],ndmin = 10 )\n",
    "print(a4)\n",
    "print(a4.ndim)"
   ]
  },
  {
   "cell_type": "markdown",
   "id": "2fc67063",
   "metadata": {},
   "source": [
    "# Special types of array (filled with specific value)"
   ]
  },
  {
   "cell_type": "markdown",
   "id": "6f088f7c",
   "metadata": {},
   "source": [
    "Numpy array creation using functions\n",
    "1. array filled with 0's\n",
    "2. array filled with 1's\n",
    "3. create an empty array\n",
    "4. array with an range element\n",
    "5. array diagonal element filled with 1's\n"
   ]
  },
  {
   "cell_type": "code",
   "execution_count": 11,
   "id": "4334f460",
   "metadata": {},
   "outputs": [
    {
     "name": "stdout",
     "output_type": "stream",
     "text": [
      "[0. 0. 0. 0.]\n",
      "[[0. 0. 0. 0.]\n",
      " [0. 0. 0. 0.]\n",
      " [0. 0. 0. 0.]]\n"
     ]
    }
   ],
   "source": [
    "#Zeros\n",
    "\n",
    "ar = np.zeros(4)\n",
    "ar1 = np.zeros((3,4))#passing rows n columns values\n",
    "print(ar)\n",
    "print(ar1)"
   ]
  },
  {
   "cell_type": "code",
   "execution_count": 12,
   "id": "ea8d74aa",
   "metadata": {},
   "outputs": [
    {
     "name": "stdout",
     "output_type": "stream",
     "text": [
      "[1. 1. 1. 1.]\n",
      "[[1. 1. 1. 1.]\n",
      " [1. 1. 1. 1.]\n",
      " [1. 1. 1. 1.]]\n",
      "<class 'numpy.ndarray'>\n"
     ]
    }
   ],
   "source": [
    "#Ones -> drawback is it will take previous variable memory\n",
    "\n",
    "ar1 = np.ones(4)\n",
    "ar2 = np.ones((3,4))#passing rows n columns values\n",
    "print(ar1)\n",
    "print(ar2)\n",
    "\n",
    "print(type(ar1))"
   ]
  },
  {
   "cell_type": "code",
   "execution_count": 13,
   "id": "c6520ee6",
   "metadata": {},
   "outputs": [
    {
     "name": "stdout",
     "output_type": "stream",
     "text": [
      "[ 0  2  4  6  8 10 12 14 16 18 20 22 24 26 28 30 32 34 36 38 40 42 44 46\n",
      " 48]\n",
      "<class 'numpy.ndarray'>\n"
     ]
    }
   ],
   "source": [
    "#Arange (asc or desc)\n",
    "\n",
    "ar = np.arange(0,50,2,dtype = int)\n",
    "print(ar)\n",
    "print(type(ar))"
   ]
  },
  {
   "cell_type": "code",
   "execution_count": 14,
   "id": "dca0439a",
   "metadata": {},
   "outputs": [
    {
     "name": "stdout",
     "output_type": "stream",
     "text": [
      "[[1. 0. 0. 0.]\n",
      " [0. 1. 0. 0.]\n",
      " [0. 0. 1. 0.]\n",
      " [0. 0. 0. 1.]]\n"
     ]
    }
   ],
   "source": [
    "#Diagonal Matrix with value 1\n",
    "\n",
    "dg = np.eye(4,4)\n",
    "print(dg)"
   ]
  },
  {
   "cell_type": "markdown",
   "id": "c8ffcaa0",
   "metadata": {},
   "source": [
    "# Arrays with Random Numbers"
   ]
  },
  {
   "cell_type": "code",
   "execution_count": 15,
   "id": "8352653d",
   "metadata": {},
   "outputs": [
    {
     "name": "stdout",
     "output_type": "stream",
     "text": [
      "[0.23836568 0.15048031 0.27173132 0.18762964]\n",
      "\n",
      "[[0.24231109 0.20504271 0.11757998 0.77813215]\n",
      " [0.57602377 0.98764502 0.76417045 0.81621198]\n",
      " [0.69383849 0.93252348 0.2209297  0.53910585]\n",
      " [0.1493271  0.46938945 0.82056402 0.73434148]]\n"
     ]
    }
   ],
   "source": [
    "#rand()-> it gives +ve random numbers between 0 & 1\n",
    "\n",
    "rn = np.random.rand(4)\n",
    "rn1 = np.random.rand(4,4)\n",
    "print(rn)\n",
    "print()\n",
    "print(rn1)"
   ]
  },
  {
   "cell_type": "code",
   "execution_count": 16,
   "id": "db9bbbbb",
   "metadata": {},
   "outputs": [
    {
     "name": "stdout",
     "output_type": "stream",
     "text": [
      "[-1.30226805  0.0744325  -1.40601905 -0.08377008]\n",
      "\n",
      "[[ 1.01436594  1.90656037  0.5408086   1.05053002]\n",
      " [ 2.11219629 -0.11011584  0.94387281 -0.20278839]\n",
      " [ 0.9045895   0.77639527  1.76724775 -0.34083278]\n",
      " [-0.39497074  0.36772203  0.04932773 -0.93036015]]\n"
     ]
    }
   ],
   "source": [
    "#randn()-> it giver both +ve & -ve number close to 0\n",
    "rnn = np.random.randn(4)\n",
    "rnn1 = np.random.randn(4,4)\n",
    "print(rnn)\n",
    "print()\n",
    "print(rnn1)"
   ]
  },
  {
   "cell_type": "code",
   "execution_count": 17,
   "id": "31b29346",
   "metadata": {},
   "outputs": [
    {
     "name": "stdout",
     "output_type": "stream",
     "text": [
      "[ 2 41 42 16  5 33 15 14 47  2]\n"
     ]
    }
   ],
   "source": [
    "#randint-> generate specific total integers numbers between max and min number\n",
    "\n",
    "rint = np.random.randint(1,50,10)\n",
    "print(rint)"
   ]
  },
  {
   "cell_type": "markdown",
   "id": "681b3d70",
   "metadata": {},
   "source": [
    "\n",
    "# Data type changing"
   ]
  },
  {
   "cell_type": "code",
   "execution_count": 18,
   "id": "cb00dc5e",
   "metadata": {},
   "outputs": [
    {
     "name": "stdout",
     "output_type": "stream",
     "text": [
      "[1 2 3 4]\n",
      "int32\n"
     ]
    }
   ],
   "source": [
    "dt = np.array((1,2,3,4),dtype='int')\n",
    "print(dt)\n",
    "print(dt.dtype)\n",
    "\n"
   ]
  },
  {
   "cell_type": "code",
   "execution_count": 19,
   "id": "c45d57be",
   "metadata": {},
   "outputs": [
    {
     "name": "stdout",
     "output_type": "stream",
     "text": [
      "[1 2 3 4]\n",
      "int32\n",
      "[1. 2. 3. 4.]\n",
      "float32\n",
      "[1 2 3 4]\n",
      "int32\n"
     ]
    }
   ],
   "source": [
    "dt = np.array([1,2,3,4])\n",
    "\n",
    "new = np.float32(dt)\n",
    "\n",
    "#again new to reverse dtype\n",
    "new1 = np.int_(new)\n",
    "\n",
    "print(dt)\n",
    "print(dt.dtype)\n",
    "\n",
    "print(new)\n",
    "print(new.dtype)\n",
    "\n",
    "print(new1)\n",
    "print(new1.dtype)"
   ]
  },
  {
   "cell_type": "code",
   "execution_count": 20,
   "id": "149b0f33",
   "metadata": {},
   "outputs": [],
   "source": [
    "import numpy as np"
   ]
  },
  {
   "cell_type": "code",
   "execution_count": 21,
   "id": "523efb0b",
   "metadata": {},
   "outputs": [
    {
     "name": "stdout",
     "output_type": "stream",
     "text": [
      "[1 2 3 4]\n",
      "int32\n",
      "[1. 2. 3. 4.]\n",
      "float64\n"
     ]
    }
   ],
   "source": [
    "#We can use astype() for data type conversion\n",
    "dt1 = np.array([1,2,3,4])\n",
    "\n",
    "var = dt1.astype(float)\n",
    "\n",
    "print(dt1)\n",
    "print(dt1.dtype)\n",
    "\n",
    "print(var)\n",
    "print(var.dtype)"
   ]
  },
  {
   "cell_type": "markdown",
   "id": "1406e42f",
   "metadata": {},
   "source": [
    "# Shape n Reshape"
   ]
  },
  {
   "cell_type": "code",
   "execution_count": 22,
   "id": "0dc0748c",
   "metadata": {},
   "outputs": [
    {
     "name": "stdout",
     "output_type": "stream",
     "text": [
      "[[1 2 3 4]\n",
      " [1 2 3 4]]\n",
      "(2, 4)\n"
     ]
    }
   ],
   "source": [
    "var1 = np.array([[1,2,3,4],[1,2,3,4]])\n",
    "print(var1)\n",
    "print(var1.shape)"
   ]
  },
  {
   "cell_type": "code",
   "execution_count": 23,
   "id": "6d0b0734",
   "metadata": {},
   "outputs": [
    {
     "name": "stdout",
     "output_type": "stream",
     "text": [
      "[[[[[1 2 3 4]]]]]\n",
      "5\n",
      "(1, 1, 1, 1, 4)\n"
     ]
    }
   ],
   "source": [
    "#Multidimensional\n",
    "var2 = np.array([1,2,3,4], ndmin = 5)\n",
    "print(var2)\n",
    "print(var2.ndim)\n",
    "print(var2.shape)"
   ]
  },
  {
   "cell_type": "code",
   "execution_count": 24,
   "id": "7cf99cba",
   "metadata": {},
   "outputs": [],
   "source": [
    "##RESHAPE"
   ]
  },
  {
   "cell_type": "code",
   "execution_count": 25,
   "id": "be92ecbf",
   "metadata": {},
   "outputs": [
    {
     "name": "stdout",
     "output_type": "stream",
     "text": [
      "[1 2 3 4 5 6]\n",
      "1\n",
      "\n",
      "[[1 2 3]\n",
      " [4 5 6]]\n",
      "2\n"
     ]
    }
   ],
   "source": [
    "var3 = np.array([1,2,3,4,5,6])\n",
    "print(var3)\n",
    "print(var3.ndim)\n",
    "\n",
    "print()\n",
    "\n",
    "x = var3.reshape(2,3)            #passing rows, columns values in reshape()\n",
    "print(x)\n",
    "print(x.ndim)"
   ]
  },
  {
   "cell_type": "code",
   "execution_count": 26,
   "id": "bff760e6",
   "metadata": {},
   "outputs": [
    {
     "name": "stdout",
     "output_type": "stream",
     "text": [
      "[1 2 3 4 5 6]\n",
      "1\n"
     ]
    }
   ],
   "source": [
    "#if we want to reshape in again 1dim array\n",
    "\n",
    "one = x.reshape(-1)\n",
    "print(one)\n",
    "print(one.ndim)"
   ]
  },
  {
   "cell_type": "markdown",
   "id": "41f2ce8c",
   "metadata": {},
   "source": [
    "# Numpy arithmetics operations"
   ]
  },
  {
   "cell_type": "code",
   "execution_count": 27,
   "id": "e3075f23",
   "metadata": {},
   "outputs": [],
   "source": [
    "#Addition, subtraction, multiply, division, power -> only symbol need to change rest are same \n",
    "#1Dimensional Array"
   ]
  },
  {
   "cell_type": "code",
   "execution_count": 28,
   "id": "5d5feda9",
   "metadata": {},
   "outputs": [
    {
     "name": "stdout",
     "output_type": "stream",
     "text": [
      "[4 5 6 7]\n"
     ]
    }
   ],
   "source": [
    "var = np.array([1,2,3,4])\n",
    "add = np.add(var,3)\n",
    "print(add)"
   ]
  },
  {
   "cell_type": "code",
   "execution_count": 29,
   "id": "27e439a4",
   "metadata": {},
   "outputs": [
    {
     "name": "stdout",
     "output_type": "stream",
     "text": [
      "[2 4 6 8]\n"
     ]
    }
   ],
   "source": [
    "var1 = np.array([1,2,3,4])\n",
    "var2 = np.array([1,2,3,4])\n",
    "add12 = np.add(var1,var2)\n",
    "print(add12)"
   ]
  },
  {
   "cell_type": "code",
   "execution_count": 30,
   "id": "293af270",
   "metadata": {},
   "outputs": [],
   "source": [
    "#2D Array"
   ]
  },
  {
   "cell_type": "code",
   "execution_count": 31,
   "id": "afb656d7",
   "metadata": {},
   "outputs": [
    {
     "name": "stdout",
     "output_type": "stream",
     "text": [
      "[[1 2 3 4]\n",
      " [1 2 3 4]]\n",
      "\n",
      "[[1 2 3 4]\n",
      " [1 2 3 4]]\n",
      "\n",
      "[[2 4 6 8]\n",
      " [2 4 6 8]]\n"
     ]
    }
   ],
   "source": [
    "var3 = np.array([[1,2,3,4],[1,2,3,4]])\n",
    "var4 = np.array([[1,2,3,4],[1,2,3,4]])\n",
    "print(var3)\n",
    "print()\n",
    "print(var4)\n",
    "print()\n",
    "\n",
    "add2 = np.add(var3,var4)\n",
    "print(add2)"
   ]
  },
  {
   "cell_type": "code",
   "execution_count": 32,
   "id": "0b031ac1",
   "metadata": {},
   "outputs": [
    {
     "data": {
      "text/plain": [
       "'\\nmin, max, argmin, argmax(it gives position value), sqrt, sin, cos, cumsum \\n'"
      ]
     },
     "execution_count": 32,
     "metadata": {},
     "output_type": "execute_result"
    }
   ],
   "source": [
    "#Arithmetic Functions\n",
    "\"\"\"\n",
    "min, max, argmin, argmax(it gives position value), sqrt, sin, cos, cumsum \n",
    "\"\"\""
   ]
  },
  {
   "cell_type": "code",
   "execution_count": 33,
   "id": "fb5b04a0",
   "metadata": {},
   "outputs": [
    {
     "name": "stdout",
     "output_type": "stream",
     "text": [
      "min 1 0\n",
      "max 8 7\n"
     ]
    }
   ],
   "source": [
    "var4 = np.array([1,2,3,4,5,6,7,8])\n",
    "print(\"min\",np.min(var4),np.argmin(var4))\n",
    "print(\"max\",np.max(var4),np.argmax(var4))\n",
    "#same as it is for sin,cos,sqrt"
   ]
  },
  {
   "cell_type": "code",
   "execution_count": 34,
   "id": "28efd21c",
   "metadata": {},
   "outputs": [
    {
     "name": "stdout",
     "output_type": "stream",
     "text": [
      "min [2 3 4]\n"
     ]
    }
   ],
   "source": [
    "var5 = np.array([[2,3,4],[6,7,8]])\n",
    "print(\"min\", np.min(var5,axis=0))#axis=0 -> it refer column values"
   ]
  },
  {
   "cell_type": "markdown",
   "id": "84c70efa",
   "metadata": {},
   "source": [
    "# Indexing & Slicing"
   ]
  },
  {
   "cell_type": "code",
   "execution_count": 3,
   "id": "14e01807",
   "metadata": {},
   "outputs": [],
   "source": [
    "import numpy as np"
   ]
  },
  {
   "cell_type": "code",
   "execution_count": 36,
   "id": "17de5393",
   "metadata": {},
   "outputs": [],
   "source": [
    "#INDEXING"
   ]
  },
  {
   "cell_type": "code",
   "execution_count": 37,
   "id": "ea016b5c",
   "metadata": {},
   "outputs": [
    {
     "name": "stdout",
     "output_type": "stream",
     "text": [
      "2\n",
      "2\n"
     ]
    }
   ],
   "source": [
    "#1D\n",
    "var6 = np.array([1,2,3,4,5])\n",
    "#index value->   0,1,2,3,4\n",
    "#index value->   -5,-4,-3,-2,-1\n",
    "\n",
    "print(var6[1])\n",
    "print(var6[-4])"
   ]
  },
  {
   "cell_type": "code",
   "execution_count": 38,
   "id": "6d91c564",
   "metadata": {},
   "outputs": [
    {
     "name": "stdout",
     "output_type": "stream",
     "text": [
      "[[4 5 6]\n",
      " [7 8 9]]\n",
      "\n",
      "6\n",
      "9\n"
     ]
    }
   ],
   "source": [
    "#2D\n",
    "var7 = np.array([[4,5,6],[7,8,9]])\n",
    "#index value->     0    ,   1\n",
    "#inside index->  [0,1,2],[0,1,2]\n",
    "print(var7)\n",
    "print()\n",
    "\n",
    "print(var7[0,2])\n",
    "print(var7[1,2])"
   ]
  },
  {
   "cell_type": "code",
   "execution_count": 44,
   "id": "d27a48b6",
   "metadata": {},
   "outputs": [
    {
     "name": "stdout",
     "output_type": "stream",
     "text": [
      "[[[1 2 3]\n",
      "  [4 5 6]]]\n",
      "3\n",
      "\n",
      "2\n",
      "5\n"
     ]
    }
   ],
   "source": [
    "#3D\n",
    "var8 = np.array([[[1,2,3],[4,5,6]]])\n",
    "print(var8)\n",
    "print(var8.ndim)\n",
    "print()\n",
    "print(var8[0,0,1])\n",
    "print(var8[0,1,1])"
   ]
  },
  {
   "cell_type": "code",
   "execution_count": 45,
   "id": "ab85cc58",
   "metadata": {},
   "outputs": [],
   "source": [
    "#SlICING"
   ]
  },
  {
   "cell_type": "code",
   "execution_count": 52,
   "id": "1a1ceb6a",
   "metadata": {},
   "outputs": [
    {
     "name": "stdout",
     "output_type": "stream",
     "text": [
      "[1 2 3 4 5 6 7]\n",
      "\n",
      "1-6 [1 2 3 4 5 6]\n",
      "2-end [3 4 5 6 7]\n",
      "start-5 [1 2 3 4 5]\n",
      "2steps data [1 3 5 7]\n"
     ]
    }
   ],
   "source": [
    "#1D\n",
    "var9 = np.array([1,2,3,4,5,6,7])\n",
    "\n",
    "print(var9)\n",
    "print()\n",
    "\n",
    "#slicing\n",
    "print(\"1-6\", var9[0:6])\n",
    "print('2-end', var9[2:])\n",
    "print('start-5', var9[:5])\n",
    "#steps slicing\n",
    "print('2steps data', var9[0:7:2])"
   ]
  },
  {
   "cell_type": "code",
   "execution_count": 60,
   "id": "a46bbdce",
   "metadata": {},
   "outputs": [
    {
     "name": "stdout",
     "output_type": "stream",
     "text": [
      "[[1 2 3 4]\n",
      " [5 6 7 8]]\n",
      "\n",
      "0 Index val->1-3 [1 2 3]\n",
      "1 Index val->1-3 [5 6 7]\n",
      "2\n"
     ]
    }
   ],
   "source": [
    "#2D\n",
    "var10 = np.array([[1,2,3,4],[5,6,7,8]])\n",
    "\n",
    "print(var10)\n",
    "print()\n",
    "\n",
    "#slicing\n",
    "print('0 Index val->1-3', var10[0,0:3])\n",
    "#                              index val, start:stop:end\n",
    "print('1 Index val->1-3', var10[1,0:3])\n",
    "\n",
    "var12 = np.array([[1,2,3,4],[5,6,7,8],[9,10,11,12]])\n",
    "print(var12.ndim)\n"
   ]
  },
  {
   "cell_type": "code",
   "execution_count": 59,
   "id": "c9d699b1",
   "metadata": {},
   "outputs": [
    {
     "name": "stdout",
     "output_type": "stream",
     "text": [
      "[[[1 2 3 4]\n",
      "  [5 6 7 8]]]\n",
      "3\n",
      "\n",
      "0 index val-> 1-4 [5 6 7 8]\n"
     ]
    }
   ],
   "source": [
    "#3D\n",
    "var11 = np.array([[[1,2,3,4],[5,6,7,8]]])\n",
    "print(var11)\n",
    "print(var11.ndim)\n",
    "\n",
    "print()\n",
    "print('0 index val-> 1-4', var11[0,1,0:])"
   ]
  },
  {
   "cell_type": "markdown",
   "id": "4b5b107c",
   "metadata": {},
   "source": [
    "# Iterating/Iterations"
   ]
  },
  {
   "cell_type": "code",
   "execution_count": 4,
   "id": "578e8c54",
   "metadata": {},
   "outputs": [
    {
     "name": "stdout",
     "output_type": "stream",
     "text": [
      "[1 2 3 4 5]\n",
      "\n",
      "1\n",
      "2\n",
      "3\n",
      "4\n",
      "5\n"
     ]
    }
   ],
   "source": [
    "#1D\n",
    "var12 = np.array([1,2,3,4,5])\n",
    "print(var12)\n",
    "print()\n",
    "\n",
    "for i in var12:\n",
    "    print(i)"
   ]
  },
  {
   "cell_type": "code",
   "execution_count": 7,
   "id": "248bb74c",
   "metadata": {},
   "outputs": [
    {
     "name": "stdout",
     "output_type": "stream",
     "text": [
      "Non-iterable\n",
      " [[1 2 3 4]\n",
      " [5 6 7 8]]\n",
      "\n",
      "Iterable\n",
      "1\n",
      "2\n",
      "3\n",
      "4\n",
      "5\n",
      "6\n",
      "7\n",
      "8\n"
     ]
    }
   ],
   "source": [
    "#2D\n",
    "var13 = np.array([[1,2,3,4],[5,6,7,8]])\n",
    "print(\"Non-iterable\\n\",var13)\n",
    "print()\n",
    "\n",
    "print(\"Iterable\")\n",
    "for j in var13:\n",
    "    for k in j:\n",
    "        print(k)"
   ]
  },
  {
   "cell_type": "code",
   "execution_count": 14,
   "id": "f0a7565f",
   "metadata": {},
   "outputs": [
    {
     "name": "stdout",
     "output_type": "stream",
     "text": [
      "Non-iterable\n",
      " [[[1 2 3 4]\n",
      "  [5 6 7 8]]]\n",
      "\n",
      "array dimension 3\n",
      "Iterable\n",
      "1\n",
      "2\n",
      "3\n",
      "4\n",
      "5\n",
      "6\n",
      "7\n",
      "8\n"
     ]
    }
   ],
   "source": [
    "#3d\n",
    "\n",
    "var14 = np.array([[[1,2,3,4],[5,6,7,8]]])\n",
    "print(\"Non-iterable\\n\",var14)\n",
    "print()\n",
    "print(\"array dimension\",var14.ndim)\n",
    "print(\"Iterable\")\n",
    "for j in var14:\n",
    "    for k in j:\n",
    "        for a in k:\n",
    "            print(a)"
   ]
  },
  {
   "cell_type": "code",
   "execution_count": 15,
   "id": "4b5fa944",
   "metadata": {},
   "outputs": [
    {
     "name": "stdout",
     "output_type": "stream",
     "text": [
      "Non-iterable\n",
      " [[[1 2 3 4]\n",
      "  [5 6 7 8]]]\n",
      "\n",
      "array dimension 3\n",
      "Iterable\n",
      "1\n",
      "2\n",
      "3\n",
      "4\n",
      "5\n",
      "6\n",
      "7\n",
      "8\n"
     ]
    }
   ],
   "source": [
    "#Alternate way by using-> np.nditer()\n",
    "#3d\n",
    "\n",
    "var15 = np.array([[[1,2,3,4],[5,6,7,8]]])\n",
    "print(\"Non-iterable\\n\",var15)\n",
    "print()\n",
    "print(\"array dimension\",var15.ndim)\n",
    "print(\"Iterable\")\n",
    "for i in np.nditer(var15):\n",
    "    print(i)"
   ]
  },
  {
   "cell_type": "code",
   "execution_count": 16,
   "id": "d279f7de",
   "metadata": {},
   "outputs": [
    {
     "name": "stdout",
     "output_type": "stream",
     "text": [
      "Non-iterable\n",
      " [[[1 2 3 4]\n",
      "  [5 6 7 8]]]\n",
      "\n",
      "array dimension 3\n",
      "Iterable\n",
      "(0, 0, 0) 1\n",
      "(0, 0, 1) 2\n",
      "(0, 0, 2) 3\n",
      "(0, 0, 3) 4\n",
      "(0, 1, 0) 5\n",
      "(0, 1, 1) 6\n",
      "(0, 1, 2) 7\n",
      "(0, 1, 3) 8\n"
     ]
    }
   ],
   "source": [
    "#If we want to print both index and its value in case of large dataset then we use #ndenumerate()\n",
    "\n",
    "#3d\n",
    "\n",
    "var16 = np.array([[[1,2,3,4],[5,6,7,8]]])\n",
    "print(\"Non-iterable\\n\",var16)\n",
    "print()\n",
    "print(\"array dimension\",var16.ndim)\n",
    "print(\"Iterable\")\n",
    "for i,d in np.ndenumerate(var16):\n",
    "    print(i,d)"
   ]
  },
  {
   "cell_type": "markdown",
   "id": "56e4c5b5",
   "metadata": {},
   "source": [
    "# Copy Vs View"
   ]
  },
  {
   "cell_type": "markdown",
   "id": "12d02e80",
   "metadata": {},
   "source": [
    "Both function use to copy array data into another diffferent variable\n",
    "The only difference is ->\n",
    "    1.Copy owns the data , where View doesn't \n",
    "    2. The changes in copy data doesn't effect in original array data\n",
    "    3. The changes in View data will effect original array data and vice versa"
   ]
  },
  {
   "cell_type": "code",
   "execution_count": 18,
   "id": "25e21f8d",
   "metadata": {},
   "outputs": [
    {
     "name": "stdout",
     "output_type": "stream",
     "text": [
      "original data:  [1 5 3 4]\n",
      "copied data:  [1 2 3 4]\n"
     ]
    }
   ],
   "source": [
    "#COPY\n",
    "var17 = np.array([1,2,3,4])\n",
    "co = var17.copy()\n",
    "\n",
    "#if we make some changes in original data then, \n",
    "var17[1] = 5\n",
    "\n",
    "print(\"original data: \",var17)\n",
    "print(\"copied data: \",co)"
   ]
  },
  {
   "cell_type": "code",
   "execution_count": 19,
   "id": "2a0e773c",
   "metadata": {},
   "outputs": [
    {
     "name": "stdout",
     "output_type": "stream",
     "text": [
      "original data:  [1 5 3 4]\n",
      "copied data:  [1 5 3 4]\n"
     ]
    }
   ],
   "source": [
    "\n",
    "#VIEW\n",
    "var18 = np.array([1,2,3,4])\n",
    "vi = var18.view()\n",
    "\n",
    "#if we make some changes in original data then, automatically data in View also changed \n",
    "var18[1] = 5\n",
    "\n",
    "print(\"original data: \",var18)\n",
    "print(\"copied data: \",vi)"
   ]
  },
  {
   "cell_type": "markdown",
   "id": "900ed683",
   "metadata": {},
   "source": [
    "# JOIN & SPLIT function \n"
   ]
  },
  {
   "cell_type": "code",
   "execution_count": 1,
   "id": "23f1e5a0",
   "metadata": {},
   "outputs": [],
   "source": [
    "import numpy as np"
   ]
  },
  {
   "cell_type": "markdown",
   "id": "a116d6d9",
   "metadata": {},
   "source": [
    "#JOIN-> merging two or more array data but number of elements should be same for JOIN()"
   ]
  },
  {
   "cell_type": "code",
   "execution_count": 4,
   "id": "d38e055f",
   "metadata": {},
   "outputs": [
    {
     "name": "stdout",
     "output_type": "stream",
     "text": [
      "Merged array [1 2 3 4 5 6 7 8]\n"
     ]
    }
   ],
   "source": [
    "#1D\n",
    "var19 = np.array([1,2,3,4])\n",
    "var20 = np.array([5,6,7,8])\n",
    "\n",
    "print(\"Merged array\", np.concatenate((var19,var20)))"
   ]
  },
  {
   "cell_type": "code",
   "execution_count": 9,
   "id": "f60b40be",
   "metadata": {},
   "outputs": [
    {
     "name": "stdout",
     "output_type": "stream",
     "text": [
      "0 axis Merged array [[ 1  2  3  4]\n",
      " [ 5  6  7  8]\n",
      " [55 66 77 88]\n",
      " [11 22 33 44]]\n",
      "\n",
      "1 axis Merged array [[ 1  2  3  4 55 66 77 88]\n",
      " [ 5  6  7  8 11 22 33 44]]\n"
     ]
    }
   ],
   "source": [
    "#2D -> array will merge on basis of axis=0,1\n",
    "\n",
    "var21 = np.array([[1,2,3,4],[5,6,7,8]])\n",
    "var22 = np.array([[55,66,77,88],[11,22,33,44]])\n",
    "\n",
    "print(\"0 axis Merged array\", np.concatenate((var21,var22),axis = 0))    #iT will concatenate rows basis\n",
    "print()\n",
    "print(\"1 axis Merged array\", np.concatenate((var21,var22),axis = 1))\n",
    "#It will concatenate on basis of column"
   ]
  },
  {
   "cell_type": "code",
   "execution_count": 15,
   "id": "76fe7e99",
   "metadata": {},
   "outputs": [
    {
     "name": "stdout",
     "output_type": "stream",
     "text": [
      "Axis 0 concatenate [[1 2 3 4]\n",
      " [5 6 7 8]]\n",
      "\n",
      "Axis 1 concatenate [[1 5]\n",
      " [2 6]\n",
      " [3 7]\n",
      " [4 8]]\n",
      "\n",
      "Rows(Horizontal) concatenate [1 2 3 4 5 6 7 8]\n",
      "\n",
      "Column (Vertical) concatenate [[1 2 3 4]\n",
      " [5 6 7 8]]\n",
      "\n",
      "Diagonal (Height) concatenate [[[1 5]\n",
      "  [2 6]\n",
      "  [3 7]\n",
      "  [4 8]]]\n"
     ]
    }
   ],
   "source": [
    "#Another way of concatenation basis on rows, column, diagonal(height)\n",
    "\n",
    "var23 = np.array([1,2,3,4])\n",
    "var24 = np.array([5,6,7,8])\n",
    "\n",
    "ar_st = np.stack((var23,var24),axis = 0)\n",
    "ar_st1 = np.stack((var23,var24),axis = 1)\n",
    "\n",
    "#Rows(Horizontal)\n",
    "ar_row = np.hstack((var23,var24))\n",
    "\n",
    "#Column(Vertical)\n",
    "ar_ver = np.vstack((var23,var24))\n",
    "\n",
    "#Diagonal(Height)\n",
    "ar_dia = np.dstack((var23,var24))\n",
    "\n",
    "print(\"Axis 0 concatenate\",ar_st)\n",
    "print()\n",
    "print(\"Axis 1 concatenate\",ar_st1)\n",
    "print()\n",
    "print(\"Rows(Horizontal) concatenate\",ar_row)\n",
    "print()\n",
    "print(\"Column (Vertical) concatenate\",ar_ver)\n",
    "print()\n",
    "print(\"Diagonal (Height) concatenate\",ar_dia)"
   ]
  },
  {
   "cell_type": "markdown",
   "id": "b9870312",
   "metadata": {},
   "source": [
    "#SPLIT -> breaks array into multiple array"
   ]
  },
  {
   "cell_type": "code",
   "execution_count": 16,
   "id": "8849a92d",
   "metadata": {},
   "outputs": [
    {
     "name": "stdout",
     "output_type": "stream",
     "text": [
      "\n",
      "[array([1, 2, 3]), array([4, 5, 6]), array([7, 8, 9])]\n"
     ]
    }
   ],
   "source": [
    "#1D\n",
    "\n",
    "var25 = np.array([1,2,3,4,5,6,7,8,9])\n",
    "ar_sp = np.array_split(var25,3)\n",
    "print()\n",
    "print(ar_sp)"
   ]
  },
  {
   "cell_type": "code",
   "execution_count": 20,
   "id": "a35332d8",
   "metadata": {},
   "outputs": [
    {
     "name": "stdout",
     "output_type": "stream",
     "text": [
      "\n",
      "[array([[1, 2, 3]]), array([[4, 5, 6]]), array([], shape=(0, 3), dtype=int32)]\n",
      "\n",
      "[array([[1, 2, 3]]), array([[4, 5, 6]]), array([], shape=(0, 3), dtype=int32)]\n",
      "\n",
      "[array([[1],\n",
      "       [4]]), array([[2],\n",
      "       [5]]), array([[3],\n",
      "       [6]])]\n"
     ]
    }
   ],
   "source": [
    "#2D\n",
    "\n",
    "var26 = np.array([[1,2,3],[4,5,6]])\n",
    "ar_sp = np.array_split(var26,3)\n",
    "ar_sp_ax = np.array_split(var26,3,axis = 0)\n",
    "ar_sp_ax1 = np.array_split(var26,3,axis = 1)\n",
    "print()\n",
    "print(ar_sp)\n",
    "print()\n",
    "print(ar_sp_ax)\n",
    "print()\n",
    "print(ar_sp_ax1)"
   ]
  },
  {
   "cell_type": "markdown",
   "id": "b346917e",
   "metadata": {},
   "source": [
    "# Search(), Sort(), Search Sort(), Filter() "
   ]
  },
  {
   "cell_type": "code",
   "execution_count": 21,
   "id": "90a16503",
   "metadata": {},
   "outputs": [],
   "source": [
    "#Search Array -> for a certain value nad return the indexes that get a match"
   ]
  },
  {
   "cell_type": "code",
   "execution_count": 24,
   "id": "47b3af88",
   "metadata": {},
   "outputs": [
    {
     "name": "stdout",
     "output_type": "stream",
     "text": [
      "(array([ 0,  9, 10, 11], dtype=int64),)\n",
      "\n",
      "(array([ 0,  3,  4,  5,  8,  9, 10, 11], dtype=int64),)\n"
     ]
    }
   ],
   "source": [
    "var27 = np.array([2,3,1,4,8,6,9,5,12,2,2,2])\n",
    "\n",
    "x = np.where(var27 == 2)\n",
    "y = np.where((var27%2) == 0)\n",
    "print(x)\n",
    "print()\n",
    "print(y)"
   ]
  },
  {
   "cell_type": "code",
   "execution_count": 27,
   "id": "d5253099",
   "metadata": {},
   "outputs": [
    {
     "name": "stdout",
     "output_type": "stream",
     "text": [
      "3\n",
      "\n",
      "[1 1 1]\n"
     ]
    }
   ],
   "source": [
    "#Search Sorted Array-> it helps to insert value at correct index value, where array is already sorted\n",
    "var27 = np.array([2,12,34,39,44,45])\n",
    "ss = np.searchsorted(var27, 37)   #passing parameters like variable name, and value which need to be inserted into array list\n",
    "ss1 = np.searchsorted(var27, [3,6,9]) \n",
    "print(ss)\n",
    "print()\n",
    "print(ss1)"
   ]
  },
  {
   "cell_type": "code",
   "execution_count": 28,
   "id": "1e42b498",
   "metadata": {},
   "outputs": [
    {
     "name": "stdout",
     "output_type": "stream",
     "text": [
      "[ 2 12 34 39 44 45]\n"
     ]
    }
   ],
   "source": [
    "#SORT -> use to sort any alphanumerical values into ascending or decending order\n",
    "\n",
    "#1D\n",
    "var28 = np.array([2,12,34,39,44,45])\n",
    "print(np.sort(var28))"
   ]
  },
  {
   "cell_type": "code",
   "execution_count": 29,
   "id": "279ae2f8",
   "metadata": {},
   "outputs": [
    {
     "name": "stdout",
     "output_type": "stream",
     "text": [
      "[[ 2 12 34]\n",
      " [39 44 45]]\n"
     ]
    }
   ],
   "source": [
    "#2D\n",
    "var29 = np.array([[2,12,34],[39,44,45]])\n",
    "print(np.sort(var29))"
   ]
  },
  {
   "cell_type": "code",
   "execution_count": 30,
   "id": "28b385ba",
   "metadata": {},
   "outputs": [
    {
     "name": "stdout",
     "output_type": "stream",
     "text": [
      "[['a' 's' 'w']\n",
      " ['g' 'p' 't']]\n"
     ]
    }
   ],
   "source": [
    "#Alphabets\n",
    "var30 = np.array([[\"s\",\"w\",\"a\"],[\"g\",\"t\",\"p\"]])\n",
    "print(np.sort(var30))"
   ]
  },
  {
   "cell_type": "code",
   "execution_count": 33,
   "id": "b3d93940",
   "metadata": {},
   "outputs": [
    {
     "name": "stdout",
     "output_type": "stream",
     "text": [
      "['a' 'g']\n"
     ]
    }
   ],
   "source": [
    "#Filter Array\n",
    "var31 = np.array([\"a\",\"h\",\"w\",\"g\"])\n",
    "var32 = [True,False,False,True]\n",
    "\n",
    "new_var = var31[var32]\n",
    "print(new_var)"
   ]
  },
  {
   "cell_type": "markdown",
   "id": "0ca58041",
   "metadata": {},
   "source": [
    "# Shuffle()"
   ]
  },
  {
   "cell_type": "code",
   "execution_count": 34,
   "id": "2866a309",
   "metadata": {},
   "outputs": [
    {
     "name": "stdout",
     "output_type": "stream",
     "text": [
      "[4 2 3 1 5]\n"
     ]
    }
   ],
   "source": [
    "var33 = np.array([1,2,3,4,5])\n",
    "np.random.shuffle(var33)\n",
    "print(var33)"
   ]
  },
  {
   "cell_type": "markdown",
   "id": "265073d3",
   "metadata": {},
   "source": [
    "# Unique"
   ]
  },
  {
   "cell_type": "code",
   "execution_count": 36,
   "id": "a3c7786a",
   "metadata": {},
   "outputs": [
    {
     "name": "stdout",
     "output_type": "stream",
     "text": [
      "(array([1, 2, 3, 4, 5, 6, 8]), array([0, 1, 2, 3, 5, 7, 9], dtype=int64), array([1, 5, 1, 1, 1, 1, 1], dtype=int64))\n"
     ]
    }
   ],
   "source": [
    "var34 = np.array([1,2,3,4,2,5,2,6,2,8,2])\n",
    "new = np.unique(var34, return_index=True,return_counts=True)\n",
    "print(new)"
   ]
  },
  {
   "cell_type": "markdown",
   "id": "a4fa9648",
   "metadata": {},
   "source": [
    "# Resize"
   ]
  },
  {
   "cell_type": "code",
   "execution_count": 38,
   "id": "637b71b6",
   "metadata": {},
   "outputs": [
    {
     "name": "stdout",
     "output_type": "stream",
     "text": [
      "[[ 2  3]\n",
      " [ 5 22]\n",
      " [ 6  8]]\n"
     ]
    }
   ],
   "source": [
    "var35 = np.array([2,3,5,22,6,8])\n",
    "new1 = np.resize(var35,(3,2))\n",
    "print(new1)"
   ]
  },
  {
   "cell_type": "markdown",
   "id": "e31cd0cd",
   "metadata": {},
   "source": [
    "# INSERT() & DELETE()"
   ]
  },
  {
   "cell_type": "code",
   "execution_count": 51,
   "id": "c7cec54b",
   "metadata": {},
   "outputs": [
    {
     "name": "stdout",
     "output_type": "stream",
     "text": [
      "[2 3 4 5 6]\n",
      "\n",
      "1\n",
      "[ 2  3  4 33  5  6]\n",
      "\n",
      "[ 2  3  4 33  5  6 33]\n",
      "\n",
      "[2.  3.  4.  5.  6.  3.3]\n"
     ]
    }
   ],
   "source": [
    "#1D\n",
    "var36 = np.array([2,3,4,5,6])\n",
    "print(var36)\n",
    "print()\n",
    "print(var36.ndim)\n",
    "\n",
    "#np.insert(var_nmae,index_val,insert_val)\n",
    "var37 = np.insert(var36, 3, 33)\n",
    "print(var37)\n",
    "print()\n",
    "\n",
    "#multiple index val insertion = np.insert(var_nmae,(index_val1index_val2),insert_val)\n",
    "var38 = np.insert(var36, (3,5), 33)\n",
    "print(var38)\n",
    "print()\n",
    "\n",
    "#np.append -> directly insert value into array but float number insertion is possible not in np.insert()\n",
    "var44 = np.append(var36,3.3)\n",
    "print(var44)\n"
   ]
  },
  {
   "cell_type": "code",
   "execution_count": 55,
   "id": "43e735e0",
   "metadata": {},
   "outputs": [
    {
     "name": "stdout",
     "output_type": "stream",
     "text": [
      "[[1 2 3]\n",
      " [4 5 6]\n",
      " [8 8 8]]\n",
      "\n",
      "[[1 2 8 3]\n",
      " [4 5 8 6]]\n",
      "\n",
      "[[1 2 3]\n",
      " [4 5 6]\n",
      " [7 8 9]]\n",
      "\n",
      "[[1.  2.  3. ]\n",
      " [4.  5.  6. ]\n",
      " [7.7 8.8 9.9]]\n",
      "\n"
     ]
    }
   ],
   "source": [
    "#2D\n",
    "\n",
    "var39 = np.array([[1,2,3],[4,5,6]])\n",
    "\n",
    "var40 = np.insert(var39, 2, 8, axis = 0)         #Row insertion done\n",
    "print(var40)\n",
    "print()\n",
    "\n",
    "var41 = np.insert(var39, 2, 8, axis = 1)         #Column insertion done\n",
    "print(var41)\n",
    "print()\n",
    "\n",
    "var42 = np.insert(var39,2,[7,8,9], axis=0)\n",
    "print(var42)\n",
    "print()\n",
    "\n",
    "#var43 = np.insert(var39,2,[7,8,9], axis=1)       #It will throw an error because of array dimension unmatched\n",
    "#print(var43)\n",
    "\n",
    "var45 = np.append(var39,[[7.7,8.8,9.9]], axis=0)\n",
    "print(var45)\n",
    "print()\n"
   ]
  },
  {
   "cell_type": "code",
   "execution_count": 65,
   "id": "6c935592",
   "metadata": {},
   "outputs": [
    {
     "name": "stdout",
     "output_type": "stream",
     "text": [
      "[1 2 3 4 5 6 7]\n",
      "\n",
      "[1 2 4 5 6 7]\n",
      "\n",
      "[3 4 5 6 7]\n"
     ]
    }
   ],
   "source": [
    "#DELETE\n",
    "var46 = np.array([1,2,3,4,5,6,7])\n",
    "print(var46)\n",
    "var47 = np.delete(var46, 2)\n",
    "print()\n",
    "print(var47)\n",
    "print()\n",
    "var52 = np.delete(var46,[0,1])\n",
    "print(var52)"
   ]
  },
  {
   "cell_type": "code",
   "execution_count": 63,
   "id": "ecb3298b",
   "metadata": {},
   "outputs": [
    {
     "name": "stdout",
     "output_type": "stream",
     "text": [
      "[[ 1  2  3  4]\n",
      " [ 5  6  7  8]\n",
      " [ 9 10 11 12]]\n",
      "\n",
      "[[ 2  3  4]\n",
      " [ 6  7  8]\n",
      " [10 11 12]]\n"
     ]
    }
   ],
   "source": [
    "var48 = np.array([[1,2,3,4],\n",
    "                  [5,6,7,8],\n",
    "                  [9,10,11,12]])\n",
    "print(var48)\n",
    "print()\n",
    "var49 = np.delete(var48,0,axis =1)        #Deleting first column \n",
    "print(var49)"
   ]
  },
  {
   "cell_type": "code",
   "execution_count": 64,
   "id": "2c2686d0",
   "metadata": {},
   "outputs": [
    {
     "name": "stdout",
     "output_type": "stream",
     "text": [
      "[[ 1  2  3  4]\n",
      " [ 5  6  7  8]\n",
      " [ 9 10 11 12]]\n",
      "\n",
      "[[ 5  6  7  8]\n",
      " [ 9 10 11 12]]\n"
     ]
    }
   ],
   "source": [
    "var50 = np.array([[1,2,3,4],\n",
    "                  [5,6,7,8],\n",
    "                  [9,10,11,12]])\n",
    "print(var50)\n",
    "print()\n",
    "var51 = np.delete(var50,0,axis =0)        #Deleting first row \n",
    "print(var51)"
   ]
  },
  {
   "cell_type": "markdown",
   "id": "1711e51f",
   "metadata": {},
   "source": [
    "# MATRIX"
   ]
  },
  {
   "cell_type": "code",
   "execution_count": 80,
   "id": "d5c46d36",
   "metadata": {},
   "outputs": [
    {
     "name": "stdout",
     "output_type": "stream",
     "text": [
      "[[1 2]\n",
      " [1 2]]\n",
      "<class 'numpy.matrix'>\n",
      "\n",
      "[[3 6]\n",
      " [3 6]]\n",
      "\n",
      "[[3 6]\n",
      " [3 6]]\n"
     ]
    }
   ],
   "source": [
    "var52 = np.matrix([[1,2],[1,2]])\n",
    "var53 = np.matrix([[1,2],[1,2]])\n",
    "\n",
    "print(var52)\n",
    "print(type(var52))\n",
    "print()\n",
    "\n",
    "print(var52*var53)\n",
    "print()\n",
    "print(var52.dot(var53))"
   ]
  },
  {
   "cell_type": "code",
   "execution_count": 72,
   "id": "41395b1c",
   "metadata": {},
   "outputs": [
    {
     "name": "stdout",
     "output_type": "stream",
     "text": [
      "[[1 4 9]\n",
      " [1 4 9]]\n"
     ]
    }
   ],
   "source": [
    "var54 = np.array([[1,2,3],[1,2,3]])\n",
    "print(var54*var54)"
   ]
  },
  {
   "cell_type": "markdown",
   "id": "3e41585c",
   "metadata": {},
   "source": [
    "# MATRIX() -> 1.Transpose  2.Swapaxes  3.Inverse  4.Power  5.Determinate\n",
    "            "
   ]
  },
  {
   "cell_type": "code",
   "execution_count": 74,
   "id": "86b65fc5",
   "metadata": {},
   "outputs": [
    {
     "name": "stdout",
     "output_type": "stream",
     "text": [
      "[[1 3 5]\n",
      " [2 4 6]]\n",
      "\n",
      "[[1 3 5]\n",
      " [2 4 6]]\n"
     ]
    }
   ],
   "source": [
    "#Transpose\n",
    "\n",
    "var55 = np.matrix([[1,2],[3,4],[5,6]])\n",
    "print(np.transpose(var55))\n",
    "print()\n",
    "print(var55.T)"
   ]
  },
  {
   "cell_type": "code",
   "execution_count": 78,
   "id": "4666245d",
   "metadata": {},
   "outputs": [
    {
     "name": "stdout",
     "output_type": "stream",
     "text": [
      "[[1 4]\n",
      " [2 5]\n",
      " [3 6]]\n"
     ]
    }
   ],
   "source": [
    "#Swapaxes\n",
    "var56 = np.matrix([[1,2,3],[4,5,6]])\n",
    "print(np.swapaxes(var56,0,1))"
   ]
  },
  {
   "cell_type": "code",
   "execution_count": 79,
   "id": "29ac735a",
   "metadata": {},
   "outputs": [
    {
     "name": "stdout",
     "output_type": "stream",
     "text": [
      "[[1 2]\n",
      " [3 4]]\n",
      "\n",
      "[[-2.   1. ]\n",
      " [ 1.5 -0.5]]\n"
     ]
    }
   ],
   "source": [
    "#INVERSE\n",
    "var57 = np.matrix([[1,2],[3,4]])\n",
    "print(var57)\n",
    "print()\n",
    "\n",
    "print(np.linalg.inv(var57))"
   ]
  },
  {
   "cell_type": "code",
   "execution_count": 84,
   "id": "13d83632",
   "metadata": {},
   "outputs": [
    {
     "name": "stdout",
     "output_type": "stream",
     "text": [
      "[[1 2]\n",
      " [3 4]]\n",
      "\n",
      "[[ 7 10]\n",
      " [15 22]]\n",
      "\n",
      "[[1 0]\n",
      " [0 1]]\n",
      "\n",
      "[[ 5.5  -2.5 ]\n",
      " [-3.75  1.75]]\n",
      "\n"
     ]
    }
   ],
   "source": [
    "#POWER\n",
    "var58 = np.matrix([[1,2],[3,4]])\n",
    "print(var58)\n",
    "print()\n",
    "\n",
    "print(np.linalg.matrix_power(var58,2))\n",
    "print()\n",
    "print(np.linalg.matrix_power(var58,0))\n",
    "print()\n",
    "print(np.linalg.matrix_power(var58,-2))\n",
    "print()\n"
   ]
  },
  {
   "cell_type": "code",
   "execution_count": 85,
   "id": "ab9459e1",
   "metadata": {},
   "outputs": [],
   "source": [
    "#DETERMINATE\n",
    "\n",
    "#-       -\n",
    "#| a b c |\n",
    "#| d e f |  = a(ef - fh) - b(di - fg) + c(dh - eg)\n",
    "#| g h i |\n",
    "#-      -"
   ]
  },
  {
   "cell_type": "code",
   "execution_count": 87,
   "id": "e99f4076",
   "metadata": {},
   "outputs": [
    {
     "name": "stdout",
     "output_type": "stream",
     "text": [
      "[[1 2]\n",
      " [3 4]]\n",
      "\n",
      "-2.0000000000000004\n"
     ]
    }
   ],
   "source": [
    "var59 = np.matrix([[1,2],[3,4]])\n",
    "print(var59)\n",
    "print()\n",
    "print(np.linalg.det(var59))\n",
    "\n"
   ]
  },
  {
   "cell_type": "code",
   "execution_count": null,
   "id": "104873eb",
   "metadata": {},
   "outputs": [],
   "source": []
  }
 ],
 "metadata": {
  "kernelspec": {
   "display_name": "Python 3 (ipykernel)",
   "language": "python",
   "name": "python3"
  },
  "language_info": {
   "codemirror_mode": {
    "name": "ipython",
    "version": 3
   },
   "file_extension": ".py",
   "mimetype": "text/x-python",
   "name": "python",
   "nbconvert_exporter": "python",
   "pygments_lexer": "ipython3",
   "version": "3.10.9"
  }
 },
 "nbformat": 4,
 "nbformat_minor": 5
}
